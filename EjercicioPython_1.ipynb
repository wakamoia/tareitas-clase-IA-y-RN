{
  "nbformat": 4,
  "nbformat_minor": 0,
  "metadata": {
    "colab": {
      "provenance": [],
      "authorship_tag": "ABX9TyNEojo6IXoRytnhHPF5fP9o"
    },
    "kernelspec": {
      "name": "python3",
      "display_name": "Python 3"
    },
    "language_info": {
      "name": "python"
    }
  },
  "cells": [
    {
      "cell_type": "markdown",
      "source": [
        "\n",
        "#**PATRICIA SOFIA MOYA TOBIAS**  \n",
        "1954922\n",
        "\n",
        "> IMTC N1\n",
        "\n",
        "\n"
      ],
      "metadata": {
        "id": "oW2-mZLRJrc7"
      }
    },
    {
      "cell_type": "code",
      "execution_count": 68,
      "metadata": {
        "colab": {
          "base_uri": "https://localhost:8080/"
        },
        "id": "-y-VgBqFw_va",
        "outputId": "1de1240c-c8a6-4f9f-9482-2c78997939ae"
      },
      "outputs": [
        {
          "output_type": "stream",
          "name": "stdout",
          "text": [
            "Cuál es tu nombre? ana\n",
            "Lo siento no saludo fimeñ@s\n"
          ]
        }
      ],
      "source": [
        "#Programa 1\n",
        "#Desarrolla un algoritmo que le pida al usuario por su nombre y que lo salude con su nombre, excepto si se llama “Ana”, “Juan”, y “Pedro”.\n",
        "\n",
        "nombre = input(\"Cuál es tu nombre? \")\n",
        "\n",
        "if nombre.lower() in [\"ana\", \"juan\", \"pedro\"]:\n",
        "    # Si el nombre está en la lista de nombres prohibidos, mostrar un mensaje genérico\n",
        "    print(\"Lo siento no saludo fimeñ@s\")\n",
        "else:\n",
        "    # Si el nombre no está en la lista de nombres prohibidos, saludar al usuario por su nombre\n",
        "    print(f\"Hola, {nombre} !Cómo estás???\")\n"
      ]
    },
    {
      "cell_type": "code",
      "source": [
        "#Programa 2\n",
        "# defino mi función\n",
        "def lista_inv():\n",
        "  # Le pido al usuario los elementos para guardarlos en una lista\n",
        "    lista = input(\"Ingresa los elementos que quieres enlistar, ejemplo: MANZANA, PERA, UVA\").split(\",\")\n",
        "  # Con la siguiente función le digo que voy a invertir el orden de los elementos proporcionados \n",
        "    lista_inv = list(reversed(lista))\n",
        "    print(\"La lista invertida es:\", lista_invertida)\n",
        "\n",
        "invertir_lista()\n"
      ],
      "metadata": {
        "colab": {
          "base_uri": "https://localhost:8080/"
        },
        "id": "cVioJsI5IE3U",
        "outputId": "400c7e4c-b0ce-438b-bad0-6220eb94155c"
      },
      "execution_count": 69,
      "outputs": [
        {
          "output_type": "stream",
          "name": "stdout",
          "text": [
            "Ingresa los elementos de la lista separados por comas: perro, gato, elefante, caballo, rana\n",
            "La lista invertida es: [' rana', ' caballo', ' elefante', ' gato', 'perro']\n"
          ]
        }
      ]
    },
    {
      "cell_type": "code",
      "source": [
        "#PROGRAMA 3\n",
        "\n",
        "# Con esto le pedimos al usuario la cantidad de numeros de la serie\n",
        "contador = int(input(\"Cuántos números de la serie de Fibonacci quieres generar? \"))\n",
        "a = 0\n",
        "b = 1\n",
        "print(\"los primeros números de la serie son:\")\n",
        "for i in range (contador):\n",
        "  print(b)\n",
        "  c = a + b\n",
        "  a = b\n",
        "  b = c"
      ],
      "metadata": {
        "colab": {
          "base_uri": "https://localhost:8080/"
        },
        "id": "WzP1z4-5N1iA",
        "outputId": "b0c6a42e-2592-4408-c0a5-3dd35c6fb8c5"
      },
      "execution_count": 67,
      "outputs": [
        {
          "output_type": "stream",
          "name": "stdout",
          "text": [
            "Cuántos números de la serie de Fibonacci quieres generar? 5\n",
            "los primeros números de la serie son:\n",
            "1\n",
            "1\n",
            "2\n",
            "3\n",
            "5\n"
          ]
        }
      ]
    }
  ]
}